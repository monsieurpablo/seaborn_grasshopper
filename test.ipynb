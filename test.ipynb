{
 "cells": [
  {
   "cell_type": "code",
   "execution_count": 1,
   "metadata": {},
   "outputs": [],
   "source": [
    "# from flask import Flask\n",
    "# import ghhops_server as hs\n",
    "import pandas as pd\n",
    "import os\n",
    "import seaborn as sns\n",
    "import matplotlib.pyplot as plt\n",
    "\n",
    "import all_graphs\n",
    "from utils import *"
   ]
  },
  {
   "cell_type": "code",
   "execution_count": 102,
   "metadata": {},
   "outputs": [
    {
     "data": {
      "text/html": [
       "<div>\n",
       "<style scoped>\n",
       "    .dataframe tbody tr th:only-of-type {\n",
       "        vertical-align: middle;\n",
       "    }\n",
       "\n",
       "    .dataframe tbody tr th {\n",
       "        vertical-align: top;\n",
       "    }\n",
       "\n",
       "    .dataframe thead th {\n",
       "        text-align: right;\n",
       "    }\n",
       "</style>\n",
       "<table border=\"1\" class=\"dataframe\">\n",
       "  <thead>\n",
       "    <tr style=\"text-align: right;\">\n",
       "      <th></th>\n",
       "      <th>hour</th>\n",
       "      <th>season</th>\n",
       "      <th>drybulb</th>\n",
       "      <th>direct_normal_rad</th>\n",
       "    </tr>\n",
       "  </thead>\n",
       "  <tbody>\n",
       "    <tr>\n",
       "      <th>0</th>\n",
       "      <td>0</td>\n",
       "      <td>spring</td>\n",
       "      <td>28.50</td>\n",
       "      <td>0</td>\n",
       "    </tr>\n",
       "    <tr>\n",
       "      <th>1</th>\n",
       "      <td>1</td>\n",
       "      <td>spring</td>\n",
       "      <td>22.35</td>\n",
       "      <td>0</td>\n",
       "    </tr>\n",
       "    <tr>\n",
       "      <th>2</th>\n",
       "      <td>2</td>\n",
       "      <td>spring</td>\n",
       "      <td>22.50</td>\n",
       "      <td>0</td>\n",
       "    </tr>\n",
       "    <tr>\n",
       "      <th>3</th>\n",
       "      <td>3</td>\n",
       "      <td>spring</td>\n",
       "      <td>22.35</td>\n",
       "      <td>0</td>\n",
       "    </tr>\n",
       "    <tr>\n",
       "      <th>4</th>\n",
       "      <td>4</td>\n",
       "      <td>spring</td>\n",
       "      <td>21.90</td>\n",
       "      <td>0</td>\n",
       "    </tr>\n",
       "    <tr>\n",
       "      <th>...</th>\n",
       "      <td>...</td>\n",
       "      <td>...</td>\n",
       "      <td>...</td>\n",
       "      <td>...</td>\n",
       "    </tr>\n",
       "    <tr>\n",
       "      <th>8755</th>\n",
       "      <td>8755</td>\n",
       "      <td>winter</td>\n",
       "      <td>29.85</td>\n",
       "      <td>0</td>\n",
       "    </tr>\n",
       "    <tr>\n",
       "      <th>8756</th>\n",
       "      <td>8756</td>\n",
       "      <td>winter</td>\n",
       "      <td>29.10</td>\n",
       "      <td>0</td>\n",
       "    </tr>\n",
       "    <tr>\n",
       "      <th>8757</th>\n",
       "      <td>8757</td>\n",
       "      <td>winter</td>\n",
       "      <td>28.80</td>\n",
       "      <td>0</td>\n",
       "    </tr>\n",
       "    <tr>\n",
       "      <th>8758</th>\n",
       "      <td>8758</td>\n",
       "      <td>winter</td>\n",
       "      <td>28.65</td>\n",
       "      <td>0</td>\n",
       "    </tr>\n",
       "    <tr>\n",
       "      <th>8759</th>\n",
       "      <td>8759</td>\n",
       "      <td>winter</td>\n",
       "      <td>28.50</td>\n",
       "      <td>0</td>\n",
       "    </tr>\n",
       "  </tbody>\n",
       "</table>\n",
       "<p>8760 rows × 4 columns</p>\n",
       "</div>"
      ],
      "text/plain": [
       "      hour  season  drybulb  direct_normal_rad\n",
       "0        0  spring    28.50                  0\n",
       "1        1  spring    22.35                  0\n",
       "2        2  spring    22.50                  0\n",
       "3        3  spring    22.35                  0\n",
       "4        4  spring    21.90                  0\n",
       "...    ...     ...      ...                ...\n",
       "8755  8755  winter    29.85                  0\n",
       "8756  8756  winter    29.10                  0\n",
       "8757  8757  winter    28.80                  0\n",
       "8758  8758  winter    28.65                  0\n",
       "8759  8759  winter    28.50                  0\n",
       "\n",
       "[8760 rows x 4 columns]"
      ]
     },
     "execution_count": 102,
     "metadata": {},
     "output_type": "execute_result"
    }
   ],
   "source": [
    "df = pd.read_csv('../GH_example/test.csv', lineterminator='@')\n",
    "df"
   ]
  },
  {
   "cell_type": "markdown",
   "metadata": {},
   "source": []
  },
  {
   "cell_type": "code",
   "execution_count": 149,
   "metadata": {},
   "outputs": [],
   "source": [
    "def empty2none(args):\n",
    "    for k, v in args.items():\n",
    "        if type(v) == str:\n",
    "            args[k] = None if v == '' else v\n",
    "    return args\n",
    "\n",
    "def clean_args(args):  \n",
    "    # remove optional args\n",
    "    args.pop('add_args')\n",
    "    args.pop('axis_args')\n",
    "    \n",
    "    args = empty2none(args)\n",
    "    \n",
    "    return args\n",
    "    \n",
    "\n",
    "def box(data, x, y, hue, palette, add_args={}, axis_args={}):\n",
    "    # https://seaborn.pydata.org/generated/seaborn.boxplot.html#seaborn.boxplot\n",
    "    \n",
    "    args = locals()  \n",
    "    args = clean_args(args)\n",
    "\n",
    "    g = sns.boxplot(**args, **add_args)\n",
    "    g.set(**axis_args)\n",
    "    \n",
    "    sns.despine(offset=10, trim=True)\n",
    "    \n",
    "    # tight layout\n",
    "    plt.tight_layout()\n",
    "    \n",
    "    return g\n",
    "    \n",
    "    # return base64img()"
   ]
  },
  {
   "cell_type": "code",
   "execution_count": 150,
   "metadata": {},
   "outputs": [],
   "source": [
    "import json\n",
    "\n",
    "data = '{\"ylim\": [5.0, null], \"ylabel\": null, \"title\": \"Hello World\", \"xlim\": [null, null], \"xlabel\": \"Pablo was here\"}'\n",
    "ax_args = json.loads(data)\n"
   ]
  },
  {
   "cell_type": "code",
   "execution_count": 151,
   "metadata": {},
   "outputs": [
    {
     "data": {
      "image/png": "[encoded data removed]",
      "text/plain": [
       "<Figure size 640x480 with 1 Axes>"
      ]
     },
     "metadata": {},
     "output_type": "display_data"
    }
   ],
   "source": [
    "# plot\n",
    "g = box(data = df, x= 'season', y= 'drybulb', hue= '', palette= '', add_args=add_args, axis_args=ax_args)\n",
    "\n",
    "plt.show()"
   ]
  },
  {
   "cell_type": "code",
   "execution_count": null,
   "metadata": {},
   "outputs": [],
   "source": []
  },
  {
   "cell_type": "code",
   "execution_count": null,
   "metadata": {},
   "outputs": [],
   "source": []
  }
 ],
 "metadata": {
  "kernelspec": {
   "display_name": "Python 3.8.13 ('rhino')",
   "language": "python",
   "name": "python3"
  },
  "language_info": {
   "codemirror_mode": {
    "name": "ipython",
    "version": 3
   },
   "file_extension": ".py",
   "mimetype": "text/x-python",
   "name": "python",
   "nbconvert_exporter": "python",
   "pygments_lexer": "ipython3",
   "version": "3.8.13"
  },
  "orig_nbformat": 4,
  "vscode": {
   "interpreter": {
    "hash": "6cd582894b98a27a07dea92923035d008f18658b004b6adfbd376307bc2c8446"
   }
  }
 },
 "nbformat": 4,
 "nbformat_minor": 2
}
