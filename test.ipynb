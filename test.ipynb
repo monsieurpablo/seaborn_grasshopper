{
 "cells": [
  {
   "cell_type": "code",
   "execution_count": null,
   "metadata": {},
   "outputs": [],
   "source": [
    "# from flask import Flask\n",
    "# import ghhops_server as hs\n",
    "import pandas as pd\n",
    "import os\n",
    "import seaborn as sns\n",
    "import matplotlib.pyplot as plt\n",
    "\n",
    "import all_graphs\n",
    "from utils import *"
   ]
  },
  {
   "cell_type": "code",
   "execution_count": null,
   "metadata": {},
   "outputs": [
    {
     "ename": "",
     "evalue": "",
     "output_type": "error",
     "traceback": [
      "\u001b[1;31mRunning cells with 'Python 3.10.4 ('rhino')' requires ipykernel package.\n",
      "\u001b[1;31mRun the following command to install 'ipykernel' into the Python environment. \n",
      "\u001b[1;31mCommand: 'conda install -n rhino ipykernel --update-deps --force-reinstall'"
     ]
    }
   ],
   "source": [
    "df = pd.read_csv('../GH_example/test.csv', lineterminator='@')\n",
    "df"
   ]
  },
  {
   "cell_type": "markdown",
   "metadata": {},
   "source": []
  },
  {
   "cell_type": "code",
   "execution_count": 18,
   "metadata": {},
   "outputs": [],
   "source": [
    "def empty2none(args):\n",
    "    for k, v in args.items():\n",
    "        if type(v) == str:\n",
    "            args[k] = None if v == '' else v\n",
    "    return args\n",
    "\n",
    "def clean_args(args):  \n",
    "    # remove optional args\n",
    "    args.pop('add_args')\n",
    "    args.pop('axis_args')\n",
    "    args.pop('despine')\n",
    "    \n",
    "    args = empty2none(args)\n",
    "    \n",
    "    return args\n",
    "    \n",
    "\n",
    "def box(data, x, y, hue, palette, despine={}, add_args={}, axis_args={}):\n",
    "    # https://seaborn.pydata.org/generated/seaborn.boxplot.html#seaborn.boxplot\n",
    "    \n",
    "    args = clean_args(locals())\n",
    "\n",
    "    g = sns.boxplot(**args, **add_args)\n",
    "    g.set(**axis_args)\n",
    "        \n",
    "    if despine:\n",
    "        sns.despine(**despine)\n",
    "    \n",
    "    # tight layout\n",
    "    plt.tight_layout()\n",
    "    \n",
    "    return g\n",
    "    \n",
    "    # return base64img()"
   ]
  },
  {
   "cell_type": "code",
   "execution_count": 19,
   "metadata": {},
   "outputs": [
    {
     "data": {
      "text/plain": [
       "{}"
      ]
     },
     "execution_count": 19,
     "metadata": {},
     "output_type": "execute_result"
    }
   ],
   "source": [
    "import json\n",
    "\n",
    "data = '{}'\n",
    "ax_args = json.loads(data)\n",
    "ax_args\n"
   ]
  },
  {
   "cell_type": "code",
   "execution_count": 20,
   "metadata": {},
   "outputs": [
    {
     "data": {
      "image/png": "[encoded data removed]",
      "text/plain": [
       "<Figure size 640x480 with 1 Axes>"
      ]
     },
     "metadata": {},
     "output_type": "display_data"
    }
   ],
   "source": [
    "\n",
    "# plot\n",
    "g = box(data = df, x= 'season', y= 'drybulb', hue= '', palette= '', axis_args=ax_args, despine={'offset': 20})\n",
    "\n",
    "plt.show()"
   ]
  },
  {
   "cell_type": "code",
   "execution_count": 21,
   "metadata": {},
   "outputs": [],
   "source": [
    "def json_parser(*json_str):\n",
    "    \n",
    "    return [json.loads(f) for f in json_str]"
   ]
  },
  {
   "cell_type": "code",
   "execution_count": 22,
   "metadata": {},
   "outputs": [
    {
     "name": "stdout",
     "output_type": "stream",
     "text": [
      "{'offset': 20} {'test': 10} {'third': 100}\n"
     ]
    }
   ],
   "source": [
    "g_despine = '{\"offset\": 20}'\n",
    "g_add_args = '{\"test\": 10}'\n",
    "g_ax_args = '{\"third\": 100}'\n",
    "\n",
    "g_despine, g_add_args, g_ax_args = json_parser(g_despine, g_add_args, g_ax_args)\n",
    "\n",
    "print(g_despine, g_add_args, g_ax_args)\n"
   ]
  },
  {
   "cell_type": "code",
   "execution_count": null,
   "metadata": {},
   "outputs": [],
   "source": []
  }
 ],
 "metadata": {
  "kernelspec": {
   "display_name": "Python 3.10.4 ('rhino')",
   "language": "python",
   "name": "python3"
  },
  "language_info": {
   "codemirror_mode": {
    "name": "ipython",
    "version": 3
   },
   "file_extension": ".py",
   "mimetype": "text/x-python",
   "name": "python",
   "nbconvert_exporter": "python",
   "pygments_lexer": "ipython3",
   "version": "3.10.4"
  },
  "orig_nbformat": 4,
  "vscode": {
   "interpreter": {
    "hash": "8d4afca122f4b4070588efa28f173acf2cb16fb34b01b7b6d3003d25d764cd5c"
   }
  }
 },
 "nbformat": 4,
 "nbformat_minor": 2
}
